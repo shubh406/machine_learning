{
 "cells": [
  {
   "cell_type": "code",
   "execution_count": 39,
   "metadata": {},
   "outputs": [],
   "source": [
    "def hypothesis(theta,x):\n",
    "    ans = theta[0]\n",
    "    ans += theta[1] * x\n",
    "    return ans"
   ]
  },
  {
   "cell_type": "code",
   "execution_count": 40,
   "metadata": {},
   "outputs": [],
   "source": [
    "def costFunction(name,batch_size,input_arr,output_arr,theta):\n",
    "    value = 0\n",
    "    if name == \"min_sq_error\":\n",
    "        for i in range(batch_size):\n",
    "            h = hypothesis(theta,input_arr[i])\n",
    "            value += (h - output_arr[i]) ** 2\n",
    "    return value / (2*batch_size)"
   ]
  },
  {
   "cell_type": "code",
   "execution_count": 41,
   "metadata": {},
   "outputs": [],
   "source": [
    "def partial_diff(theta,X,Y):\n",
    "    ans = 0\n",
    "    index = 0\n",
    "    for i in X:\n",
    "        ans += (hypothesis(theta,i) - Y[index])\n",
    "        index += 1\n",
    "    return ans"
   ]
  },
  {
   "cell_type": "code",
   "execution_count": 59,
   "metadata": {},
   "outputs": [],
   "source": [
    "def gradient_descent(theta,num_iter,J,learning_rate,X,Y,batch_size):\n",
    "    for i in range(num_iter):\n",
    "        for k in X:\n",
    "            for j in range(len(theta)):\n",
    "                theta[j] = theta[j] - (learning_rate/batch_size)*(partial_diff(theta,X,Y)*k)\n",
    "    return theta\n",
    "            "
   ]
  },
  {
   "cell_type": "code",
   "execution_count": 141,
   "metadata": {},
   "outputs": [
    {
     "name": "stdout",
     "output_type": "stream",
     "text": [
      "0.31133685171369985 1.9433932996884182\n"
     ]
    }
   ],
   "source": [
    "#parameters theta1, theta0 indicating linear regression\n",
    "theta = [10,10]\n",
    "\n",
    "#hypothesis\n",
    "#h = theta0 + theta1 * x\n",
    "#input arr\n",
    "X = [1,2,3,4,5,6,7,8,9,10]\n",
    "Y = [2,4,6,8,10,12,14,16,18,20]\n",
    "batch_size = 10\n",
    "learning_rate = 0.14\n",
    "num_iter = 100\n",
    "#costfunction\n",
    "J = costFunction(\"min_sq_error\",batch_size,X,Y,theta)\n",
    "\n",
    "theta1 = gradient_descent(theta,num_iter,J,learning_rate,X,Y,batch_size)\n",
    "print(*theta1)"
   ]
  },
  {
   "cell_type": "code",
   "execution_count": 142,
   "metadata": {},
   "outputs": [
    {
     "name": "stdout",
     "output_type": "stream",
     "text": [
      "46.95277604423573\n"
     ]
    }
   ],
   "source": [
    "#testing hypothesis\n",
    "value = hypothesis(theta1,24)\n",
    "print(value)"
   ]
  }
 ],
 "metadata": {
  "kernelspec": {
   "display_name": "Python 3",
   "language": "python",
   "name": "python3"
  },
  "language_info": {
   "codemirror_mode": {
    "name": "ipython",
    "version": 3
   },
   "file_extension": ".py",
   "mimetype": "text/x-python",
   "name": "python",
   "nbconvert_exporter": "python",
   "pygments_lexer": "ipython3",
   "version": "3.6.8"
  }
 },
 "nbformat": 4,
 "nbformat_minor": 2
}
